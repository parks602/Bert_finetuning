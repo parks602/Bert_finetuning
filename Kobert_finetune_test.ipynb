{
  "nbformat": 4,
  "nbformat_minor": 0,
  "metadata": {
    "colab": {
      "provenance": [],
      "toc_visible": true,
      "gpuType": "T4",
      "mount_file_id": "1qUU_CTV0vlWxQvDNlqyLkkRFOBRpAKb2",
      "authorship_tag": "ABX9TyOETdf30JDmXVoZ4uUwIvYB",
      "include_colab_link": true
    },
    "kernelspec": {
      "name": "python3",
      "display_name": "Python 3"
    },
    "language_info": {
      "name": "python"
    },
    "accelerator": "GPU"
  },
  "cells": [
    {
      "cell_type": "markdown",
      "metadata": {
        "id": "view-in-github",
        "colab_type": "text"
      },
      "source": [
        "<a href=\"https://colab.research.google.com/github/parks602/Bert_finetuning/blob/main/Kobert_finetune_test.ipynb\" target=\"_parent\"><img src=\"https://colab.research.google.com/assets/colab-badge.svg\" alt=\"Open In Colab\"/></a>"
      ]
    },
    {
      "cell_type": "markdown",
      "source": [
        "# **LLM Fine Tnning**\n",
        "영화 리뷰 데이터를 kobert 모델을 통해 긍정/부정 감정 평가를 실시하려한다.\n",
        "이는 LLM Fine Tunning을 위한 실습이며, 성능 비교를 위해 기존 Kobert 모델의 토크나이저와 기초 딥러닝 모델을 이용한 결과와 비교 실험을 실시한다.\n",
        "\n",
        "\n",
        "1.   SKT/Kogpt2를 이용한 감정 분류\n",
        "2.   SKT/Kogpt2와 Fine Tunning을 이용한 감정 분류\n",
        "\n"
      ],
      "metadata": {
        "id": "JzVBlUwbHK5m"
      }
    },
    {
      "cell_type": "markdown",
      "source": [
        "# 1. SKT/Kogpt2를 이용한 감정 분류\n",
        "\n",
        "> 로지스틱 회귀, FNN등을 사용\n",
        "\n",
        "\n"
      ],
      "metadata": {
        "id": "DM8L9PMDH2h2"
      }
    },
    {
      "cell_type": "code",
      "execution_count": 4,
      "metadata": {
        "colab": {
          "base_uri": "https://localhost:8080/",
          "height": 312,
          "referenced_widgets": [
            "1312660d12734e15a343291b452f8f42",
            "28a51424f9854e7fab57ff26a7710910",
            "b7c69dea778748b88f87e3491d640db9",
            "f8260ca8fccc465896fae73996573bc8",
            "b90c5f46f43d4df48bd655003b5aff7c",
            "6e0bba86b14c4eb8b88367586e765e15",
            "f0dc86551d8242b6bbbff61682eb0418",
            "b5053e520d8843959e332b9cfc1cc865",
            "ff2f3ad999fe44c89447f368de2791f5",
            "1c4aa504a587486fab824b75bd077f98",
            "1738bf2da6444fb3abd455b3c790e173",
            "531ef94cd0d641c781d0277d22ee89d0",
            "c6b507c85e9443949799f0736e90a4d8",
            "3597e03ca5bc473a800e21b5a7f2d699",
            "e7b176762d3a4dfaac21dc1d0b0ef036",
            "630761b7eb1c4375a3fbd011b0d98a9e",
            "26ab2e1516c6449f891ef35cf81d6248",
            "e0fe78ed9ab64ad4a8ffa906b4b36ba1",
            "46d7a81a935646059dcfbbc3ba81e454",
            "120905dbdc194ca7a761401b14caa6ff",
            "aa0b0a4e5e5842acad330d26333025f2",
            "13594b63c73e45f0ba4e699a567cd12b",
            "d66ec36f41ba41509be2bd1253325a7c",
            "7788b87f23a24b27bd6d63f37011237d",
            "399a92ca47654c10959bd5a6013fc9c0",
            "398c920a8bfa4666b9e29c10274e3507",
            "7ab325b3018447cdb65799f84ec3d720",
            "ffda595465364cc18122f00626f64f0a",
            "7d120420d4554cf5b4c304b8adb856da",
            "4e15d48be7a8491b99397420d3d62223",
            "e2e70b821ab0487a94812066679b2a0a",
            "205d71a4d3c94f25aa9df1e47c4431a9",
            "9cd3f4caaad443a797ec4001fcf9582c",
            "3c659762882f4b1b8eba81baf491c05b",
            "e9904d64366f4855b8552ee0fc526460",
            "c288164b04d24876a70ed7251f8c45a1",
            "94fb4d82f82043e4831a58ebb4b2e51e",
            "68d0e0cb554143b884781a9dd777a8b0",
            "524cb69b1b6b46c2aea823d62d5b6f5c",
            "a0dfb459f30049afa6cad4d8d7e19503",
            "1f6ba8efc18e4f3a9cab419a6163a399",
            "219078be28b14afd9b0ffb8cc3f33ddc",
            "bb53dfb0964c48c4bbb33dc44b50244f",
            "66c52bb103934d7d89e2f3a7e7c12ab3"
          ]
        },
        "id": "M4U4mW8hTfaq",
        "outputId": "ff69275b-6fdf-4497-819c-e891b53c50ae"
      },
      "outputs": [
        {
          "output_type": "display_data",
          "data": {
            "text/plain": [
              "tokenizer.json:   0%|          | 0.00/2.83M [00:00<?, ?B/s]"
            ],
            "application/vnd.jupyter.widget-view+json": {
              "version_major": 2,
              "version_minor": 0,
              "model_id": "1312660d12734e15a343291b452f8f42"
            }
          },
          "metadata": {}
        },
        {
          "output_type": "display_data",
          "data": {
            "text/plain": [
              "config.json:   0%|          | 0.00/1.00k [00:00<?, ?B/s]"
            ],
            "application/vnd.jupyter.widget-view+json": {
              "version_major": 2,
              "version_minor": 0,
              "model_id": "531ef94cd0d641c781d0277d22ee89d0"
            }
          },
          "metadata": {}
        },
        {
          "output_type": "stream",
          "name": "stderr",
          "text": [
            "The tokenizer class you load from this checkpoint is not the same type as the class this function is called from. It may result in unexpected tokenization. \n",
            "The tokenizer class you load from this checkpoint is 'GPT2Tokenizer'. \n",
            "The class this function is called from is 'PreTrainedTokenizerFast'.\n"
          ]
        },
        {
          "output_type": "display_data",
          "data": {
            "text/plain": [
              "config.json:   0%|          | 0.00/625 [00:00<?, ?B/s]"
            ],
            "application/vnd.jupyter.widget-view+json": {
              "version_major": 2,
              "version_minor": 0,
              "model_id": "d66ec36f41ba41509be2bd1253325a7c"
            }
          },
          "metadata": {}
        },
        {
          "output_type": "display_data",
          "data": {
            "text/plain": [
              "model.safetensors:   0%|          | 0.00/714M [00:00<?, ?B/s]"
            ],
            "application/vnd.jupyter.widget-view+json": {
              "version_major": 2,
              "version_minor": 0,
              "model_id": "3c659762882f4b1b8eba81baf491c05b"
            }
          },
          "metadata": {}
        },
        {
          "output_type": "stream",
          "name": "stderr",
          "text": [
            "Some weights of the PyTorch model were not used when initializing the TF 2.0 model TFBertModel: ['cls.predictions.bias', 'cls.predictions.transform.dense.bias', 'cls.seq_relationship.weight', 'cls.predictions.transform.LayerNorm.bias', 'cls.predictions.transform.dense.weight', 'cls.seq_relationship.bias', 'cls.predictions.transform.LayerNorm.weight']\n",
            "- This IS expected if you are initializing TFBertModel from a PyTorch model trained on another task or with another architecture (e.g. initializing a TFBertForSequenceClassification model from a BertForPreTraining model).\n",
            "- This IS NOT expected if you are initializing TFBertModel from a PyTorch model that you expect to be exactly identical (e.g. initializing a TFBertForSequenceClassification model from a BertForSequenceClassification model).\n",
            "All the weights of TFBertModel were initialized from the PyTorch model.\n",
            "If your task is similar to the task the model of the checkpoint was trained on, you can already use TFBertModel for predictions without further training.\n"
          ]
        }
      ],
      "source": [
        "import numpy as np\n",
        "import pandas as pd\n",
        "import tensorflow as tf\n",
        "from transformers import BertTokenizer, TFBertModel\n",
        "from transformers import PreTrainedTokenizerFast\n",
        "import warnings\n",
        "warnings.filterwarnings('ignore')\n",
        "\n",
        "#토크나이저 불러오기\n",
        "#tokenizer = BertTokenizer.from_pretrained('bert-base-multilingual-cased')\n",
        "tokenizer = PreTrainedTokenizerFast.from_pretrained(\"skt/kogpt2-base-v2\",\n",
        "  bos_token='</s>', eos_token='</s>', unk_token='<unk>',\n",
        "  pad_token='<pad>', mask_token='<mask>')\n",
        "\n",
        "#모델 불러오기\n",
        "model = TFBertModel.from_pretrained(\"bert-base-multilingual-cased\", output_hidden_states = True)\n"
      ]
    },
    {
      "cell_type": "code",
      "source": [
        "def encode(sents, tokenizer):\n",
        "    input_ids = []\n",
        "    attention_mask = []\n",
        "\n",
        "    for text in sents:\n",
        "        tokenized_text = tokenizer.encode_plus(text,\n",
        "                                            max_length=20,\n",
        "                                            add_special_tokens = True,\n",
        "                                            pad_to_max_length=True,\n",
        "                                            return_attention_mask=True)\n",
        "\n",
        "        input_ids.append(tokenized_text['input_ids'])\n",
        "        attention_mask.append(tokenized_text['attention_mask'])\n",
        "    return tf.convert_to_tensor(input_ids, dtype=tf.int32), tf.convert_to_tensor(attention_mask, dtype=tf.int32)"
      ],
      "metadata": {
        "id": "wCIzar9wjZj7"
      },
      "execution_count": 2,
      "outputs": []
    },
    {
      "cell_type": "code",
      "source": [
        "#코랩 경로 이동\n",
        "from google.colab import drive\n",
        "drive.mount('/content/drive')\n",
        "\n",
        "#데이터 불러오기\n",
        "with open('/content/drive/MyDrive/Colab Notebooks/Sample_data/ratings_test.txt', encoding='utf-8') as f:\n",
        "    docs = [doc.strip().split('\\t') for doc in f ]\n",
        "    docs = [(doc[1], int(doc[2])) for doc in docs[1:]]\n",
        "    texts, labels = zip(*docs)"
      ],
      "metadata": {
        "id": "UGysAFArjZnl",
        "colab": {
          "base_uri": "https://localhost:8080/"
        },
        "outputId": "b0ab4306-1a72-4df0-bf89-87272f9c1d6f"
      },
      "execution_count": 3,
      "outputs": [
        {
          "output_type": "stream",
          "name": "stdout",
          "text": [
            "Drive already mounted at /content/drive; to attempt to forcibly remount, call drive.mount(\"/content/drive\", force_remount=True).\n"
          ]
        }
      ]
    },
    {
      "cell_type": "code",
      "source": [
        "len(texts)"
      ],
      "metadata": {
        "colab": {
          "base_uri": "https://localhost:8080/"
        },
        "id": "Y-VWhvHcCxZL",
        "outputId": "e8ca1f04-90b1-431a-bd43-d77632e48dd8"
      },
      "execution_count": 4,
      "outputs": [
        {
          "output_type": "execute_result",
          "data": {
            "text/plain": [
              "50000"
            ]
          },
          "metadata": {},
          "execution_count": 4
        }
      ]
    },
    {
      "cell_type": "code",
      "source": [
        "#각 영화 리뷰의 토큰ID와 attention mask 정보 추출\n",
        "tokenized_sents = encode(texts[:3000], tokenizer)"
      ],
      "metadata": {
        "id": "9Np_9oDjjZqI",
        "colab": {
          "base_uri": "https://localhost:8080/"
        },
        "outputId": "d9aa4c67-eb05-4e74-dc16-93487abd650b"
      },
      "execution_count": 5,
      "outputs": [
        {
          "output_type": "stream",
          "name": "stderr",
          "text": [
            "Truncation was not explicitly activated but `max_length` is provided a specific value, please use `truncation=True` to explicitly truncate examples to max length. Defaulting to 'longest_first' truncation strategy. If you encode pairs of sequences (GLUE-style) with the tokenizer you can select this strategy more precisely by providing a specific strategy to `truncation`.\n"
          ]
        }
      ]
    },
    {
      "cell_type": "code",
      "source": [
        "for layer in model.layers:\n",
        "    layer.trainable=False\n",
        "#테스트 용으로 파라미터 고정"
      ],
      "metadata": {
        "id": "wgEtS-0djZtK"
      },
      "execution_count": 6,
      "outputs": []
    },
    {
      "cell_type": "code",
      "source": [
        "outputs = model(tokenized_sents[0], attention_mask = tokenized_sents[1])\n",
        "\n",
        "outputs[2][-1].shape"
      ],
      "metadata": {
        "id": "oHZwD0-kjZwK",
        "colab": {
          "base_uri": "https://localhost:8080/"
        },
        "outputId": "a7251c48-dcc6-410b-ce89-7564d2e1d5de"
      },
      "execution_count": 7,
      "outputs": [
        {
          "output_type": "execute_result",
          "data": {
            "text/plain": [
              "TensorShape([3000, 20, 768])"
            ]
          },
          "metadata": {},
          "execution_count": 7
        }
      ]
    },
    {
      "cell_type": "markdown",
      "source": [
        "3000=리뷰의 수 / 20=각 리뷰를 구성하는 토큰 수 / 768=각 토큰을 구성하는 벡터 차원"
      ],
      "metadata": {
        "id": "-tn9xPtrGduV"
      }
    },
    {
      "cell_type": "code",
      "source": [
        "#독립변수 지정\n",
        "hidden_states = outputs[2][-1]\n",
        "features = hidden_states[:,0,:].numpy()\n",
        "\n",
        "#종속변수 지정\n",
        "selected_labels=labels[:3000]"
      ],
      "metadata": {
        "id": "KhetNFozBWWQ"
      },
      "execution_count": 13,
      "outputs": []
    },
    {
      "cell_type": "code",
      "source": [
        "from sklearn.model_selection import train_test_split\n",
        "train_features, test_features, train_labels, test_labels = train_test_split(features, selected_labels, test_size=0.2, random_state=0)\n",
        "\n",
        "from sklearn.linear_model import LogisticRegression\n",
        "lr2 = LogisticRegression(C=0.1, penalty='l2', solver='saga', max_iter=1000)\n",
        "lr2.fit(train_features, train_labels)\n",
        "pred_labels = lr2.predict(test_features)\n",
        "\n",
        "#정확도 확인\n",
        "from sklearn.metrics import accuracy_score\n",
        "accuracy_score(test_labels, pred_labels)"
      ],
      "metadata": {
        "colab": {
          "base_uri": "https://localhost:8080/"
        },
        "id": "WkDLVdDwBWTz",
        "outputId": "e736b246-e3b8-4b6c-9bc5-3cb63b2c2219"
      },
      "execution_count": 14,
      "outputs": [
        {
          "output_type": "execute_result",
          "data": {
            "text/plain": [
              "0.62"
            ]
          },
          "metadata": {},
          "execution_count": 14
        }
      ]
    },
    {
      "cell_type": "code",
      "source": [
        "#원핫 인코딩\n",
        "from tensorflow.keras.utils import to_categorical\n",
        "y_one_hot = to_categorical(selected_labels)\n",
        "\n",
        "#train/test 분리\n",
        "from sklearn.model_selection import train_test_split\n",
        "X_train, X_test, y_train, y_test = train_test_split(features, y_one_hot, test_size=0.2)\n",
        "\n",
        "#FNN 모델 정의\n",
        "from tensorflow.keras import models\n",
        "model = models.Sequential()\n",
        "\n",
        "from tensorflow.keras import layers\n",
        "model.add(layers.Dense(64, activation = 'tanh', input_shape=(X_train.shape[1],)))\n",
        "# model.add(layers.Dropout(0.5))\n",
        "model.add(layers.Dense(64, activation = 'tanh'))\n",
        "model.add(layers.Dense(2, activation='softmax'))\n",
        "\n",
        "#모델 학습\n",
        "from tensorflow.keras.optimizers import RMSprop\n",
        "model.compile(optimizer=RMSprop(learning_rate=0.0001), loss='binary_crossentropy', metrics=['accuracy'])\n",
        "\n",
        "history = model.fit(X_train, y_train, epochs=30, batch_size=32, validation_split=0.2)\n",
        "\n",
        "#테스트셋 성과 평가\n",
        "model.evaluate(X_test,y_test)[1]"
      ],
      "metadata": {
        "id": "zIeA8aoMBWRb"
      },
      "execution_count": null,
      "outputs": []
    },
    {
      "cell_type": "code",
      "source": [],
      "metadata": {
        "id": "9LO8uMUnd7Lj"
      },
      "execution_count": null,
      "outputs": []
    },
    {
      "cell_type": "markdown",
      "source": [
        "# 2.  SKT/Kogpt2와 Fine Tunning을 이용한 감정 분류\n"
      ],
      "metadata": {
        "id": "7Kl96m-qIKR5"
      }
    },
    {
      "cell_type": "code",
      "source": [
        "#데이터 불러오기\n",
        "with open('/content/drive/MyDrive/Colab Notebooks/Sample_data/ratings_train.txt', encoding='utf-8') as f:\n",
        "    docs = [doc.strip().split('\\t') for doc in f ]\n",
        "    docs = [(doc[1], int(doc[2])) for doc in docs[1:]]\n",
        "    texts, labels = zip(*docs)\n",
        "\n",
        "print(len)"
      ],
      "metadata": {
        "colab": {
          "base_uri": "https://localhost:8080/"
        },
        "id": "OT2FVsPBBWPJ",
        "outputId": "8ed2d7f2-10e9-4a16-8ff9-34bf267ab7be"
      },
      "execution_count": 5,
      "outputs": [
        {
          "output_type": "stream",
          "name": "stdout",
          "text": [
            "<built-in function len>\n"
          ]
        }
      ]
    },
    {
      "cell_type": "code",
      "source": [
        "from sklearn.model_selection import train_test_split\n",
        "X_train, X_test, y_train, y_test = train_test_split(texts, labels, random_state=42, test_size=0.2)"
      ],
      "metadata": {
        "id": "uUiINaWCBWMy"
      },
      "execution_count": 6,
      "outputs": []
    },
    {
      "cell_type": "code",
      "source": [
        "from transformers import BertTokenizer, TFBertForSequenceClassification\n",
        "\n",
        "tokenizer = PreTrainedTokenizerFast.from_pretrained(\"skt/kogpt2-base-v2\",\n",
        "  bos_token='</s>', eos_token='</s>', unk_token='<unk>',\n",
        "  pad_token='<pad>', mask_token='<mask>')\n",
        "\n",
        "def encode(data, tokenizer):\n",
        "    input_ids = []\n",
        "    attention_masks = []\n",
        "    token_type_ids = []\n",
        "    for text in data:\n",
        "        tokenized_text = tokenizer.encode_plus(text,\n",
        "                                            max_length=50,\n",
        "                                            add_special_tokens = True,\n",
        "                                            pad_to_max_length=True,\n",
        "                                            return_attention_mask=True,\n",
        "                                              truncation=True)\n",
        "        input_ids.append(tokenized_text['input_ids'])\n",
        "        attention_masks.append(tokenized_text['attention_mask'])\n",
        "        token_type_ids.append(tokenized_text['token_type_ids'])\n",
        "\n",
        "    return input_ids, attention_masks, token_type_ids"
      ],
      "metadata": {
        "colab": {
          "base_uri": "https://localhost:8080/"
        },
        "id": "70eZBwVABWKK",
        "outputId": "05c41439-aab6-4281-f3a9-ac92c0393f82"
      },
      "execution_count": 7,
      "outputs": [
        {
          "output_type": "stream",
          "name": "stderr",
          "text": [
            "The tokenizer class you load from this checkpoint is not the same type as the class this function is called from. It may result in unexpected tokenization. \n",
            "The tokenizer class you load from this checkpoint is 'GPT2Tokenizer'. \n",
            "The class this function is called from is 'PreTrainedTokenizerFast'.\n"
          ]
        }
      ]
    },
    {
      "cell_type": "markdown",
      "source": [
        "fine tuning시 token_type_ids 필요"
      ],
      "metadata": {
        "id": "YW7eFPt0dBo2"
      }
    },
    {
      "cell_type": "code",
      "source": [
        "#학습 데이터\n",
        "train_input_ids, train_attention_masks, train_token_type_ids = encode(X_train, tokenizer)\n",
        "\n",
        "#테스트 데이터\n",
        "test_input_ids, test_attention_masks, test_token_type_ids = encode(X_test, tokenizer)"
      ],
      "metadata": {
        "id": "LsVhlf9QBWHx"
      },
      "execution_count": 8,
      "outputs": []
    },
    {
      "cell_type": "code",
      "source": [
        "def map_example_to_dict(input_ids, attention_masks, token_type_ids, label):\n",
        "    return {\n",
        "      \"input_ids\": input_ids,\n",
        "      \"token_type_ids\": token_type_ids,\n",
        "      \"attention_mask\": attention_masks,\n",
        "      }, label\n",
        "\n",
        "\n",
        "def data_encode(input_ids_list, attention_mask_list, token_type_ids_list, label_list):\n",
        "    return tf.data.Dataset.from_tensor_slices((input_ids_list, attention_mask_list, token_type_ids_list, label_list)).map(map_example_to_dict)\n",
        "\n",
        "BATCH_SIZE=32\n",
        "\n",
        "train_data_encoded = data_encode(train_input_ids, train_attention_masks, train_token_type_ids,y_train).shuffle(10000).batch(BATCH_SIZE)\n",
        "test_data_encoded = data_encode(test_input_ids, test_attention_masks, test_token_type_ids, y_test).batch(BATCH_SIZE)"
      ],
      "metadata": {
        "id": "QfCuE9uHdIW6"
      },
      "execution_count": 10,
      "outputs": []
    },
    {
      "cell_type": "code",
      "source": [
        "\n",
        "model = TFBertForSequenceClassification.from_pretrained(\n",
        "    \"bert-base-multilingual-cased\", # Use the 12-layer BERT model, with an uncased vocab.\n",
        "    num_labels = 2\n",
        ")\n",
        "\n",
        "\n",
        "optimizer = tf.keras.optimizers.Adam(1e-5)\n",
        "loss = tf.keras.losses.SparseCategoricalCrossentropy(from_logits=True)\n",
        "metric = tf.keras.metrics.SparseCategoricalAccuracy('accuracy')\n",
        "model.compile(optimizer=optimizer, loss=loss, metrics=[metric])\n",
        "\n",
        "NUM_EPOCHS = 5\n",
        "history = model.fit(train_data_encoded, epochs=NUM_EPOCHS, batch_size=BATCH_SIZE, validation_data=test_data_encoded)"
      ],
      "metadata": {
        "colab": {
          "base_uri": "https://localhost:8080/"
        },
        "id": "t5EbYrJ-dIUs",
        "outputId": "2d9d7c2b-5af1-4147-ec9f-320383c580fe"
      },
      "execution_count": null,
      "outputs": [
        {
          "output_type": "stream",
          "name": "stderr",
          "text": [
            "All PyTorch model weights were used when initializing TFBertForSequenceClassification.\n",
            "\n",
            "Some weights or buffers of the TF 2.0 model TFBertForSequenceClassification were not initialized from the PyTorch model and are newly initialized: ['classifier.weight', 'classifier.bias']\n",
            "You should probably TRAIN this model on a down-stream task to be able to use it for predictions and inference.\n"
          ]
        },
        {
          "output_type": "stream",
          "name": "stdout",
          "text": [
            "Epoch 1/5\n"
          ]
        },
        {
          "output_type": "stream",
          "name": "stderr",
          "text": [
            "WARNING:tensorflow:AutoGraph could not transform <function infer_framework at 0x787a8d7408b0> and will run it as-is.\n",
            "Cause: for/else statement not yet supported\n",
            "To silence this warning, decorate the function with @tf.autograph.experimental.do_not_convert\n"
          ]
        },
        {
          "output_type": "stream",
          "name": "stdout",
          "text": [
            "WARNING: AutoGraph could not transform <function infer_framework at 0x787a8d7408b0> and will run it as-is.\n",
            "Cause: for/else statement not yet supported\n",
            "To silence this warning, decorate the function with @tf.autograph.experimental.do_not_convert\n",
            "1764/3750 [=============>................] - ETA: 11:11 - loss: 0.5673 - accuracy: 0.6903"
          ]
        }
      ]
    },
    {
      "cell_type": "code",
      "source": [
        "# loss 확인\n",
        "import matplotlib.pyplot as plt\n",
        "plt.plot(history.history['loss'])\n",
        "plt.plot(history.history['val_loss'])\n",
        "plt.xlabel('epoch')\n",
        "plt.ylabel('loss')\n",
        "plt.legend(['train','val'])\n",
        "plt.show()\n",
        "\n",
        "\n",
        "# accuracy 확인\n",
        "import matplotlib.pyplot as plt\n",
        "plt.plot(history.history['accuracy'])\n",
        "plt.plot(history.history['val_accuracy'])\n",
        "plt.xlabel('epoch')\n",
        "plt.ylabel('accuracy')\n",
        "plt.legend(['train','val'])\n",
        "plt.show()"
      ],
      "metadata": {
        "id": "IAGEAvRgdISY"
      },
      "execution_count": null,
      "outputs": []
    },
    {
      "cell_type": "code",
      "source": [],
      "metadata": {
        "id": "S3oNEG_3dIQE"
      },
      "execution_count": null,
      "outputs": []
    },
    {
      "cell_type": "code",
      "source": [],
      "metadata": {
        "id": "qVEutNLbdINX"
      },
      "execution_count": null,
      "outputs": []
    }
  ]
}